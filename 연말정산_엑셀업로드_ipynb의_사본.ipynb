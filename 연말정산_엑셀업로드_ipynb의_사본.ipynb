{
  "nbformat": 4,
  "nbformat_minor": 0,
  "metadata": {
    "colab": {
      "provenance": [],
      "authorship_tag": "ABX9TyNCWvUS+4/H1cW0Ykq+q0fK",
      "include_colab_link": true
    },
    "kernelspec": {
      "name": "python3",
      "display_name": "Python 3"
    },
    "language_info": {
      "name": "python"
    }
  },
  "cells": [
    {
      "cell_type": "markdown",
      "metadata": {
        "id": "view-in-github",
        "colab_type": "text"
      },
      "source": [
        "<a href=\"https://colab.research.google.com/github/stgulaa/python/blob/main/%EC%97%B0%EB%A7%90%EC%A0%95%EC%82%B0_%EC%97%91%EC%85%80%EC%97%85%EB%A1%9C%EB%93%9C_ipynb%EC%9D%98_%EC%82%AC%EB%B3%B8.ipynb\" target=\"_parent\"><img src=\"https://colab.research.google.com/assets/colab-badge.svg\" alt=\"Open In Colab\"/></a>"
      ]
    },
    {
      "cell_type": "code",
      "source": [
        "!pip install openpyxl"
      ],
      "metadata": {
        "colab": {
          "base_uri": "https://localhost:8080/"
        },
        "id": "oHadjrABZh2A",
        "outputId": "c0d399a6-cd50-4d5f-e409-b98dac0d4b65"
      },
      "execution_count": null,
      "outputs": [
        {
          "output_type": "stream",
          "name": "stdout",
          "text": [
            "Requirement already satisfied: openpyxl in /usr/local/lib/python3.10/dist-packages (3.0.10)\n",
            "Requirement already satisfied: et-xmlfile in /usr/local/lib/python3.10/dist-packages (from openpyxl) (1.1.0)\n"
          ]
        }
      ]
    },
    {
      "cell_type": "code",
      "source": [
        "import os\n",
        "import openpyxl as xls\n",
        "import pandas as pd\n",
        "import urllib\n",
        "import shutil\n",
        "from posix import remove\n",
        "import re\n",
        "from openpyxl.utils import get_column_letter\n",
        "from openpyxl.worksheet.dimensions import ColumnDimension"
      ],
      "metadata": {
        "id": "8tsfGaDLZu9I"
      },
      "execution_count": null,
      "outputs": []
    },
    {
      "cell_type": "code",
      "source": [
        "#1\n",
        "from google.colab import files\n",
        "url = files.upload()"
      ],
      "metadata": {
        "colab": {
          "base_uri": "https://localhost:8080/",
          "height": 112
        },
        "id": "Xxhdwu_O_DRo",
        "outputId": "0d2b73a3-92c1-4431-e85d-1f8cac2f4b8f"
      },
      "execution_count": null,
      "outputs": [
        {
          "output_type": "display_data",
          "data": {
            "text/plain": [
              "<IPython.core.display.HTML object>"
            ],
            "text/html": [
              "\n",
              "     <input type=\"file\" id=\"files-1a31b55c-3714-4fbd-8a82-10740c3c4f60\" name=\"files[]\" multiple disabled\n",
              "        style=\"border:none\" />\n",
              "     <output id=\"result-1a31b55c-3714-4fbd-8a82-10740c3c4f60\">\n",
              "      Upload widget is only available when the cell has been executed in the\n",
              "      current browser session. Please rerun this cell to enable.\n",
              "      </output>\n",
              "      <script>// Copyright 2017 Google LLC\n",
              "//\n",
              "// Licensed under the Apache License, Version 2.0 (the \"License\");\n",
              "// you may not use this file except in compliance with the License.\n",
              "// You may obtain a copy of the License at\n",
              "//\n",
              "//      http://www.apache.org/licenses/LICENSE-2.0\n",
              "//\n",
              "// Unless required by applicable law or agreed to in writing, software\n",
              "// distributed under the License is distributed on an \"AS IS\" BASIS,\n",
              "// WITHOUT WARRANTIES OR CONDITIONS OF ANY KIND, either express or implied.\n",
              "// See the License for the specific language governing permissions and\n",
              "// limitations under the License.\n",
              "\n",
              "/**\n",
              " * @fileoverview Helpers for google.colab Python module.\n",
              " */\n",
              "(function(scope) {\n",
              "function span(text, styleAttributes = {}) {\n",
              "  const element = document.createElement('span');\n",
              "  element.textContent = text;\n",
              "  for (const key of Object.keys(styleAttributes)) {\n",
              "    element.style[key] = styleAttributes[key];\n",
              "  }\n",
              "  return element;\n",
              "}\n",
              "\n",
              "// Max number of bytes which will be uploaded at a time.\n",
              "const MAX_PAYLOAD_SIZE = 100 * 1024;\n",
              "\n",
              "function _uploadFiles(inputId, outputId) {\n",
              "  const steps = uploadFilesStep(inputId, outputId);\n",
              "  const outputElement = document.getElementById(outputId);\n",
              "  // Cache steps on the outputElement to make it available for the next call\n",
              "  // to uploadFilesContinue from Python.\n",
              "  outputElement.steps = steps;\n",
              "\n",
              "  return _uploadFilesContinue(outputId);\n",
              "}\n",
              "\n",
              "// This is roughly an async generator (not supported in the browser yet),\n",
              "// where there are multiple asynchronous steps and the Python side is going\n",
              "// to poll for completion of each step.\n",
              "// This uses a Promise to block the python side on completion of each step,\n",
              "// then passes the result of the previous step as the input to the next step.\n",
              "function _uploadFilesContinue(outputId) {\n",
              "  const outputElement = document.getElementById(outputId);\n",
              "  const steps = outputElement.steps;\n",
              "\n",
              "  const next = steps.next(outputElement.lastPromiseValue);\n",
              "  return Promise.resolve(next.value.promise).then((value) => {\n",
              "    // Cache the last promise value to make it available to the next\n",
              "    // step of the generator.\n",
              "    outputElement.lastPromiseValue = value;\n",
              "    return next.value.response;\n",
              "  });\n",
              "}\n",
              "\n",
              "/**\n",
              " * Generator function which is called between each async step of the upload\n",
              " * process.\n",
              " * @param {string} inputId Element ID of the input file picker element.\n",
              " * @param {string} outputId Element ID of the output display.\n",
              " * @return {!Iterable<!Object>} Iterable of next steps.\n",
              " */\n",
              "function* uploadFilesStep(inputId, outputId) {\n",
              "  const inputElement = document.getElementById(inputId);\n",
              "  inputElement.disabled = false;\n",
              "\n",
              "  const outputElement = document.getElementById(outputId);\n",
              "  outputElement.innerHTML = '';\n",
              "\n",
              "  const pickedPromise = new Promise((resolve) => {\n",
              "    inputElement.addEventListener('change', (e) => {\n",
              "      resolve(e.target.files);\n",
              "    });\n",
              "  });\n",
              "\n",
              "  const cancel = document.createElement('button');\n",
              "  inputElement.parentElement.appendChild(cancel);\n",
              "  cancel.textContent = 'Cancel upload';\n",
              "  const cancelPromise = new Promise((resolve) => {\n",
              "    cancel.onclick = () => {\n",
              "      resolve(null);\n",
              "    };\n",
              "  });\n",
              "\n",
              "  // Wait for the user to pick the files.\n",
              "  const files = yield {\n",
              "    promise: Promise.race([pickedPromise, cancelPromise]),\n",
              "    response: {\n",
              "      action: 'starting',\n",
              "    }\n",
              "  };\n",
              "\n",
              "  cancel.remove();\n",
              "\n",
              "  // Disable the input element since further picks are not allowed.\n",
              "  inputElement.disabled = true;\n",
              "\n",
              "  if (!files) {\n",
              "    return {\n",
              "      response: {\n",
              "        action: 'complete',\n",
              "      }\n",
              "    };\n",
              "  }\n",
              "\n",
              "  for (const file of files) {\n",
              "    const li = document.createElement('li');\n",
              "    li.append(span(file.name, {fontWeight: 'bold'}));\n",
              "    li.append(span(\n",
              "        `(${file.type || 'n/a'}) - ${file.size} bytes, ` +\n",
              "        `last modified: ${\n",
              "            file.lastModifiedDate ? file.lastModifiedDate.toLocaleDateString() :\n",
              "                                    'n/a'} - `));\n",
              "    const percent = span('0% done');\n",
              "    li.appendChild(percent);\n",
              "\n",
              "    outputElement.appendChild(li);\n",
              "\n",
              "    const fileDataPromise = new Promise((resolve) => {\n",
              "      const reader = new FileReader();\n",
              "      reader.onload = (e) => {\n",
              "        resolve(e.target.result);\n",
              "      };\n",
              "      reader.readAsArrayBuffer(file);\n",
              "    });\n",
              "    // Wait for the data to be ready.\n",
              "    let fileData = yield {\n",
              "      promise: fileDataPromise,\n",
              "      response: {\n",
              "        action: 'continue',\n",
              "      }\n",
              "    };\n",
              "\n",
              "    // Use a chunked sending to avoid message size limits. See b/62115660.\n",
              "    let position = 0;\n",
              "    do {\n",
              "      const length = Math.min(fileData.byteLength - position, MAX_PAYLOAD_SIZE);\n",
              "      const chunk = new Uint8Array(fileData, position, length);\n",
              "      position += length;\n",
              "\n",
              "      const base64 = btoa(String.fromCharCode.apply(null, chunk));\n",
              "      yield {\n",
              "        response: {\n",
              "          action: 'append',\n",
              "          file: file.name,\n",
              "          data: base64,\n",
              "        },\n",
              "      };\n",
              "\n",
              "      let percentDone = fileData.byteLength === 0 ?\n",
              "          100 :\n",
              "          Math.round((position / fileData.byteLength) * 100);\n",
              "      percent.textContent = `${percentDone}% done`;\n",
              "\n",
              "    } while (position < fileData.byteLength);\n",
              "  }\n",
              "\n",
              "  // All done.\n",
              "  yield {\n",
              "    response: {\n",
              "      action: 'complete',\n",
              "    }\n",
              "  };\n",
              "}\n",
              "\n",
              "scope.google = scope.google || {};\n",
              "scope.google.colab = scope.google.colab || {};\n",
              "scope.google.colab._files = {\n",
              "  _uploadFiles,\n",
              "  _uploadFilesContinue,\n",
              "};\n",
              "})(self);\n",
              "</script> "
            ]
          },
          "metadata": {}
        },
        {
          "output_type": "stream",
          "name": "stdout",
          "text": [
            "Saving 2022_근로소득지급명세서_신고파일생성.xlsx to 2022_근로소득지급명세서_신고파일생성.xlsx\n",
            "Saving 2023홈택스c.xlsx to 2023홈택스c.xlsx\n"
          ]
        }
      ]
    },
    {
      "cell_type": "code",
      "source": [
        "keyword = \"근로소득지급명세서\"\n",
        "\n",
        "files = os.listdir(\"./\")\n",
        "\n",
        "old_url = [file for file in files if file.endswith(\".xlsx\") and keyword in file]\n",
        "new_url = [file for file in files if file.endswith(\".xlsx\") and keyword not in file]\n",
        "\n",
        "# print(\"근로소득지급명세서가 포함된 파일들:\", old_url)\n",
        "# print(\"그 외 파일들:\", new_url)"
      ],
      "metadata": {
        "id": "iIhdSGSNvqDH"
      },
      "execution_count": null,
      "outputs": []
    },
    {
      "cell_type": "code",
      "source": [
        "def process_excel_file(file_path):\n",
        "    wb = xls.load_workbook(file_path)\n",
        "\n",
        "    for sheet_name in wb.sheetnames:\n",
        "        sheet = wb[sheet_name]\n",
        "\n",
        "        # 서식항목 빈 열 지우기 - 매개변수 값넣어서 지우는 경우 하나 끝내고 다시 sheet의 열을 세서 지워짐\n",
        "        sheet.delete_cols(3)\n",
        "        sheet.delete_cols(3)\n",
        "        sheet.delete_cols(3)\n",
        "\n",
        "        if sheet.max_column >= 5:  # 필요없는 열 전부 삭제\n",
        "            sheet.delete_cols(5,sheet.max_column+1)\n",
        "\n",
        "        for row in list(sheet.iter_rows(min_row=2, min_col=1)):\n",
        "          if not row[0].value:\n",
        "            sheet.delete_rows(row[0].row)\n",
        "\n",
        "          elif not row[3].value:\n",
        "            sheet.delete_rows(row[3].row)\n",
        "\n",
        "    # F열부터 Q열까지 열 추가\n",
        "    wb.active.insert_cols(6, amount=11)\n",
        "\n",
        "    # 변경된 파일 이름으로 저장\n",
        "    new_filename = os.path.join(\"./\", \"2023레코드.xlsx\")\n",
        "    wb.save(new_filename)\n",
        "    return new_filename\n",
        "\n",
        "pre_save = process_excel_file(\"./\".join(s for s in new_url))"
      ],
      "metadata": {
        "id": "KHkONaFCYOMh"
      },
      "execution_count": null,
      "outputs": []
    },
    {
      "cell_type": "code",
      "source": [
        "#2. 데이터 준비\n",
        "old_excel = xls.load_workbook('./'.join(s for s in old_url))\n",
        "new_excel = xls.load_workbook(pre_save)\n",
        "\n",
        "old_ws = old_excel.active\n",
        "new_ws = new_excel.active\n",
        "\n",
        "\n",
        "#2022_근로소득지급명세서 파일에서 비교할 시트가져오기\n",
        "for ws_names in old_excel.sheetnames:\n",
        "  if pre_save[2:6] in ws_names:\n",
        "    compare_sh = ws_names\n",
        "\n",
        "compare_sh = old_excel[compare_sh]"
      ],
      "metadata": {
        "id": "WeyisJSYsw5X"
      },
      "execution_count": null,
      "outputs": []
    },
    {
      "cell_type": "code",
      "source": [
        "#3 갱신된 값이 나오는 시작점 찾기\n",
        "for i in range(2,new_ws.max_row+1):\n",
        "  if(new_ws.cell(row=i, column =1).font.color.rgb == 'FFFF0000'): #폰트 빨간색(FFFF0000)\n",
        "    final_black_cell = i-1\n",
        "    break\n",
        "\n",
        "cnt = 2\n",
        "\n",
        "for row in compare_sh.iter_rows(min_row=3, max_row = final_black_cell+1, min_col=5, max_col=17):\n",
        "    new_ws.cell(row = cnt, column= 9, value = new_ws.cell(row=cnt, column=2).value)\n",
        "    new_ws.cell(row = cnt, column= 10, value = row[6].value)\n",
        "    new_ws.cell(row = cnt, column= 11, value = \"=LEFT(C\"+str(cnt)+\",1)\")\n",
        "    new_ws.cell(row = cnt, column= 12, value = \"=MID(C\" + str(cnt) + \", FIND(\\\"(\\\",C\" + str(cnt) + \")+1, LENB(C\" + str(cnt) + \")-FIND(\\\"(\\\",C\" + str(cnt) + \")-1)\")\n",
        "    new_ws.cell(row = cnt, column= 13, value =  \"=\\\"INSERT INTO E21.E2QT_RELAT_FILE_INFO(FILE_FLAG, RECORD_FLAG, SEQ, SYS_FLAG, FILE_COL_NM, FILE_COL, FILE_COL_TYPE, DATA_LENGTH) VALUES ('10','\\\"&F\" + str(cnt) + \"&\\\"','\\\"&G\" + str(cnt) + \"&\\\"','E2','\\\"&I\" + str(cnt) + \"&\\\"','\\\"&J\" + str(cnt) + \"&\\\"','\\\"&K\" + str(cnt) + \"&\\\"','\\\"&L\" + str(cnt) + \"&\\\");\\\"\")\n",
        "    #new_ws.cell(row = cnt, column= 14, value = row[11].value) #엑셀 파일이 만들어진 후 후처리하는 거라서 없어도 됨\n",
        "    cnt+=1"
      ],
      "metadata": {
        "id": "C8vj7ZJKXrvc"
      },
      "execution_count": null,
      "outputs": []
    },
    {
      "cell_type": "code",
      "source": [
        "#비교1\n",
        "def copy_row(new_row, copy_row):\n",
        "  copy_row = int(re.sub(r\"[^0-9]\",\"\",copy_row[0].coordinate)) #복사해올 행\n",
        "  new_ws.cell(row = new_row, column= 9, value = new_ws.cell(row=new_row, column=2).value)\n",
        "  new_ws.cell(row = new_row, column= 10, value = compare_sh.cell(row=copy_row, column=11).value)\n",
        "  new_ws.cell(row = new_row, column= 11, value = \"=LEFT(C\"+str(new_row)+\",1)\")\n",
        "  new_ws.cell(row = new_row, column= 12, value = \"=MID(C\" + str(new_row) + \", FIND(\\\"(\\\",C\" + str(new_row) + \")+1, LENB(C\" + str(new_row) + \")-FIND(\\\"(\\\",C\" + str(new_row) + \")-1)\")\n",
        "  new_ws.cell(row = new_row, column= 13, value = \"=\\\"INSERT INTO E21.E2QT_RELAT_FILE_INFO(FILE_FLAG, RECORD_FLAG, SEQ, SYS_FLAG, FILE_COL_NM, FILE_COL, FILE_COL_TYPE, DATA_LENGTH) VALUES ('10','\\\"&F\" + str(new_row) + \"&\\\"','\\\"&G\" + str(new_row) + \"&\\\"','E2','\\\"&I\" + str(new_row) + \"&\\\"','\\\"&J\" + str(new_row) + \"&\\\"','\\\"&K\" + str(new_row) + \"&\\\"','\\\"&L\" + str(new_row) + \"&\\\");\\\"\")\n",
        "  #new_ws.cell(row = new_row, column= 14, value = new_ws.cell(row=new_row, column = 10).value)#엑셀 파일이 만들어진 후 후처리하는 거라서 없어도 됨\n",
        "\n",
        "name_list = []\n",
        "\n",
        "for i in range(2,new_ws.max_row+1):\n",
        "  name_list.append(new_ws.cell(row=i, column=2).value)\n",
        "\n",
        "for i in range(final_black_cell+1, new_ws.max_row + 1):\n",
        "    origin_str = str(new_ws.cell(row=i, column=2).value).replace(\" \", \"\")\n",
        "    cnt = 0\n",
        "    cnt2 = 0\n",
        "\n",
        "    for name in range(final_black_cell-1, i-1): # name_list가 0으로 시작하고 2열에 있는 값부터 순서대로 저장하기 때문에 반복문 범위 조정함\n",
        "      if name_list[name].replace(\" \", \"\") == origin_str:\n",
        "        cnt += 1\n",
        "\n",
        "    for row in compare_sh.iter_rows(min_row=final_black_cell+1, max_row = compare_sh.max_row, min_col=2, max_col=2):\n",
        "      compare_str = str(row[0].value).replace(\" \", \"\")\n",
        "\n",
        "      matching_characters = sum(1 for a, b in zip(compare_str, origin_str) if a == b)\n",
        "\n",
        "      if((compare_str[0] == \"-\" and compare_str[len(compare_str)-1] ==\"-\")):\n",
        "        if(matching_characters >= 6):\n",
        "          copy_row(i, row)\n",
        "\n",
        "      else:\n",
        "         if(origin_str == compare_str):\n",
        "            cnt2 +=1\n",
        "            if cnt == cnt2:\n",
        "              copy_row(i,row)\n",
        "              break\n",
        "         else:\n",
        "          continue\n"
      ],
      "metadata": {
        "id": "y85q_7kzvgGW"
      },
      "execution_count": null,
      "outputs": []
    },
    {
      "cell_type": "code",
      "source": [
        "def pre_save():\n",
        "  cnt = 1\n",
        "  for i in range(2, new_ws.max_row+1):\n",
        "    new_ws.cell(row = i, column = 5, value = compare_sh['F3'].value)\n",
        "    new_ws.cell(row = i, column = 6, value = compare_sh['G3'].value)\n",
        "    new_ws.cell(row = i, column = 7, value = str(cnt).rjust(4,'0'))\n",
        "    new_ws.cell(row = i, column = 8, value = compare_sh['I3'].value)\n",
        "    cnt += 1\n",
        "\n",
        "def auto_format_column(worksheet, columns=None, margin=2): #사용x\n",
        "    for i, column_cells in enumerate(worksheet.columns):\n",
        "        is_ok = False\n",
        "        if columns == None:\n",
        "            is_ok = True\n",
        "        elif isinstance(columns, list) and i in columns:\n",
        "            is_ok = True\n",
        "\n",
        "        if is_ok:\n",
        "            length = max(len(str(cell.value)) for cell in column_cells) #byte 수로 계산\n",
        "            worksheet.column_dimensions[column_cells[0].column_letter].width = length*1.5\n",
        "    return worksheet\n",
        "\n",
        "def auto_format_row(worksheet): #자동 행 높이 맞춤\n",
        "  min = 10000\n",
        "  for i in range(0, worksheet.max_row+1):\n",
        "    if worksheet.row_dimensions[i].height is not None and min > worksheet.row_dimensions[i].height:\n",
        "      min = worksheet.row_dimensions[i].height\n",
        "\n",
        "  for i in range(0, worksheet.max_row+1):\n",
        "    worksheet.row_dimensions[i].height = min\n",
        "  return worksheet"
      ],
      "metadata": {
        "id": "77yTGvA7_baZ"
      },
      "execution_count": null,
      "outputs": []
    },
    {
      "cell_type": "code",
      "source": [
        "#최종 저장\n",
        "pre_save()\n",
        "auto_format_row(new_ws)\n",
        "\n",
        "new_excel.save(\"./final.xlsx\")"
      ],
      "metadata": {
        "id": "Tpf8UusbzrI8"
      },
      "execution_count": null,
      "outputs": []
    }
  ]
}